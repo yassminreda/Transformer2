{
  "nbformat": 4,
  "nbformat_minor": 0,
  "metadata": {
    "colab": {
      "provenance": []
    },
    "kernelspec": {
      "name": "python3",
      "display_name": "Python 3"
    },
    "language_info": {
      "name": "python"
    }
  },
  "cells": [
    {
      "cell_type": "code",
      "execution_count": 2,
      "metadata": {
        "colab": {
          "base_uri": "https://localhost:8080/"
        },
        "id": "fZqHeqL23Dno",
        "outputId": "9d35b958-c863-4286-99f6-66be02b64522"
      },
      "outputs": [
        {
          "output_type": "stream",
          "name": "stdout",
          "text": [
            "Self-Attention Scores:\n",
            " tensor([[0.1703, 0.1686, 0.1669, 0.1620, 0.1678, 0.1644],\n",
            "        [0.1686, 0.1703, 0.1653, 0.1636, 0.1678, 0.1644],\n",
            "        [0.1680, 0.1664, 0.1714, 0.1664, 0.1639, 0.1639],\n",
            "        [0.1631, 0.1647, 0.1664, 0.1714, 0.1655, 0.1689],\n",
            "        [0.1675, 0.1675, 0.1625, 0.1642, 0.1700, 0.1683],\n",
            "        [0.1647, 0.1647, 0.1631, 0.1680, 0.1689, 0.1706]])\n"
          ]
        }
      ],
      "source": [
        "import torch\n",
        "import torch.nn.functional as F\n",
        "\n",
        "token_embeddings = torch.tensor([\n",
        "    [0.1, 0.2, 0.3, 0.4],\n",
        "    [0.2, 0.1, 0.4, 0.3],\n",
        "    [0.3, 0.2, 0.1, 0.4],\n",
        "    [0.4, 0.3, 0.2, 0.1],\n",
        "    [0.1, 0.3, 0.4, 0.2],\n",
        "    [0.2, 0.4, 0.3, 0.1]\n",
        "], dtype=torch.float32)\n",
        "\n",
        "Q = K = V = token_embeddings\n",
        "d_k = Q.shape[-1]\n",
        "\n",
        "attention_scores = torch.matmul(Q, K.T) / (d_k ** 0.5)\n",
        "attention_weights = F.softmax(attention_scores, dim=-1)\n",
        "\n",
        "print(\"Self-Attention Scores:\\n\", attention_weights)\n"
      ]
    }
  ]
}